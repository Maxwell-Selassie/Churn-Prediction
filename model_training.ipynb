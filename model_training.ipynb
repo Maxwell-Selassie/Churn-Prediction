{
 "cells": [
  {
   "cell_type": "code",
   "execution_count": 2,
   "id": "7a6d59f3",
   "metadata": {},
   "outputs": [
    {
     "name": "stdout",
     "output_type": "stream",
     "text": [
      "Preprocessed_df.csv successfully opened\n"
     ]
    }
   ],
   "source": [
    "import os\n",
    "import pandas as pd\n",
    "if os.path.exists('data/preprocessed_df.csv'):\n",
    "    df = pd.read_csv('data/preprocessed_df.csv')\n",
    "    print('Preprocessed_df.csv successfully opened')\n",
    "else:\n",
    "    raise FileNotFoundError('File was not found!')"
   ]
  },
  {
   "cell_type": "code",
   "execution_count": 3,
   "id": "6fc654c6",
   "metadata": {},
   "outputs": [],
   "source": [
    "y = df['Churn']"
   ]
  },
  {
   "cell_type": "code",
   "execution_count": 4,
   "id": "771fa722",
   "metadata": {},
   "outputs": [],
   "source": [
    "x = df.drop(columns=['Churn']).copy() #drop target column from dataset\n"
   ]
  },
  {
   "cell_type": "code",
   "execution_count": null,
   "id": "d37c53fb",
   "metadata": {},
   "outputs": [],
   "source": [
    "from sklearn.model_selection import train_test_split,GridSearchCV,KFold,cross_val_score,StratifiedKFold\n",
    "from sklearn.preprocessing import RobustScaler,PolynomialFeatures,OneHotEncoder\n",
    "from sklearn.pipeline import Pipeline\n",
    "from sklearn.compose import ColumnTransformer\n",
    "from sklearn.impute import SimpleImputer\n",
    "from xgboost import XGBClassifier\n",
    "from sklearn.metrics import accuracy_score,precision_recall_curve,precision_score,recall_score,f1_score,confusion_matrix,ConfusionMatrixDisplay,classification_report\n"
   ]
  },
  {
   "cell_type": "code",
   "execution_count": null,
   "id": "79d009f7",
   "metadata": {},
   "outputs": [],
   "source": [
    "x_train,x_test,y_train,y_test = train_test_split(\n",
    "    x,y,test_size=0.3,random_state=42,stratify=y\n",
    ")\n",
    "\n",
    "numeric_cols = x_train.select_dtypes(include='number').columns\n",
    "categorical_cols = x_train.select_dtypes(include='object').columns\n",
    "\n",
    "cv = StratifiedKFold(n_splits=5,shuffle=True,random_state=42)\n",
    "\n",
    "num_pipe = Pipeline(steps=[\n",
    "    ('impute',SimpleImputer(strategy='mean')),\n",
    "    ('scaler',RobustScaler()),\n",
    "    ('poly',PolynomialFeatures(include_bias=False))\n",
    "])\n",
    "\n",
    "cat_pipe = Pipeline(steps=[\n",
    "    ('impute',SimpleImputer(strategy='most_frequent')),\n",
    "    ('onehot',OneHotEncoder(handle_unknown='ignore'))\n",
    "])\n",
    "\n",
    "preprocessor = ColumnTransformer(transformers=[\n",
    "    ('num',num_pipe,numeric_cols),\n",
    "    ('cat',cat_pipe,categorical_cols)\n",
    "])\n",
    "\n",
    "pipe_xgb = Pipeline(steps=[\n",
    "    ('preprocessor',preprocessor),\n",
    "    ('model',XGBClassifier(verbosity=0))\n",
    "])\n",
    "\n",
    "grid_params = ({\n",
    "    'preprocessor__num__poly__degree' : [1,2],\n",
    "    'model__n_estimators' : [80,100],\n",
    "    'model__learning_rate' : [0.01,0.05,0.1,0.5,1.0],\n",
    "    'model__max_depth': [3,6,8],\n",
    "    'model__subsample': [0.6,0.8,1.0],\n",
    "    'model__colsample_bytree' : [0.3,0.5,0.7,1.0]\n",
    "})\n",
    "\n",
    "model = GridSearchCV(estimator=pipe_xgb,\n",
    "                    param_grid=grid_params,\n",
    "                    cv = cv,\n",
    "                    refit = True,\n",
    "                    scoring= 'accuracy',\n",
    "                    return_train_score=True,\n",
    "                    n_jobs=-1,\n",
    "                    verbose=2,\n",
    "                    error_score='raise')\n",
    "print('Training model using XGB Classifier (This may take a while)...')\n",
    "model.fit(x_train,y_train)\n",
    "print('Best parameters : ',model.best_params_)"
   ]
  }
 ],
 "metadata": {
  "kernelspec": {
   "display_name": "Python 3",
   "language": "python",
   "name": "python3"
  },
  "language_info": {
   "codemirror_mode": {
    "name": "ipython",
    "version": 3
   },
   "file_extension": ".py",
   "mimetype": "text/x-python",
   "name": "python",
   "nbconvert_exporter": "python",
   "pygments_lexer": "ipython3",
   "version": "3.11.9"
  }
 },
 "nbformat": 4,
 "nbformat_minor": 5
}
