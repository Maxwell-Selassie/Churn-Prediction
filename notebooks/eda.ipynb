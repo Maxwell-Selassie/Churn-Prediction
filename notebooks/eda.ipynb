{
 "cells": [
  {
   "cell_type": "code",
   "execution_count": 1,
   "id": "e2c61c61",
   "metadata": {},
   "outputs": [],
   "source": [
    "#import libraries\n",
    "import pandas as pd\n",
    "import numpy as np\n",
    "import matplotlib.pyplot as plt\n",
    "import seaborn as sns\n",
    "import warnings\n",
    "warnings.filterwarnings('ignore')\n",
    "import logging"
   ]
  },
  {
   "cell_type": "code",
   "execution_count": 2,
   "id": "51accb5f",
   "metadata": {},
   "outputs": [],
   "source": [
    "logging.basicConfig(level=logging.INFO, format='%(asctime)s - %(levelname)s - %(message)s',\n",
    "    datefmt='%H:%M:%S')"
   ]
  },
  {
   "cell_type": "code",
   "execution_count": 3,
   "id": "bb9a60a9",
   "metadata": {},
   "outputs": [],
   "source": [
    "def load_data(filepath: str):\n",
    "    'Returns the dataframe'\n",
    "    try:\n",
    "        df = pd.read_csv(filepath) # load csv into the env as a pandas dataFrame\n",
    "        #prints out the number of rows and columns (5630 rows, 20 columns)\n",
    "        logging.info(f'Data successfully loaded with {df.shape[0]} rows and {df.shape[1]} columns\\n')\n",
    "        return df\n",
    "    except FileNotFoundError:\n",
    "        logging.info('File Not Found! Please check filepath and try again')\n",
    "        raise"
   ]
  },
  {
   "cell_type": "code",
   "execution_count": 4,
   "id": "3be75ff9",
   "metadata": {},
   "outputs": [],
   "source": [
    "# ----dataset overview--------\n",
    "def dataset_overview(df: pd.DataFrame):\n",
    "    '''Returns the shape of the dataset (i.e. number of rows and columns), \n",
    "    alongside a short descriptive summary statistcs of the dataset'''\n",
    "    logging.info(f'Number of observations : {df.shape[0]}')\n",
    "    logging.info(f'Number of features : {df.shape[1]}')\n",
    "    return df.describe(include='all').T"
   ]
  },
  {
   "cell_type": "code",
   "execution_count": 5,
   "id": "afac55b2",
   "metadata": {},
   "outputs": [],
   "source": [
    "# -------numeric columns-----------\n",
    "def numeric_columns(df: pd.DataFrame):\n",
    "    '''Returns numeric columns, together with their minimum and maximum values'''\n",
    "    numeric_cols = df.select_dtypes(include=[np.number]).columns\n",
    "\n",
    "    cols = [col for col in numeric_cols[1:]]\n",
    "    logging.info(f'\\nNumber of Numeric columns : {len(cols)} | Examples : {cols[:3]}\\n')\n",
    "\n",
    "    for i,col in enumerate(numeric_cols,1):\n",
    "        logging.info(f'\\n{i}. {col} - Min: {df[col].min()} - Max: {df[col].max()}\\n')\n",
    "    return numeric_cols"
   ]
  },
  {
   "cell_type": "code",
   "execution_count": 6,
   "id": "aa8cdf60",
   "metadata": {},
   "outputs": [],
   "source": [
    "# ------------categorical columns---------\n",
    "def categorical_columns(df: pd.DataFrame):\n",
    "    '''Returns categorical columns and their respective unique values'''\n",
    "    categorical_cols = df.select_dtypes(exclude=[np.number]).columns\n",
    "\n",
    "    cols = [col for col in categorical_cols]\n",
    "    logging.info(f'\\nNumber of Categorical columns : {len(cols)} | Examples : {cols[:3]}\\n')\n",
    "\n",
    "    for i, col in enumerate(categorical_cols,1):\n",
    "        uniques = df[col].unique()\n",
    "        logging.info(f'\\n{i}. {col} - Unique: {df[col].nunique()} | Examples : {uniques[:3]}\\n')\n",
    "    return categorical_cols"
   ]
  },
  {
   "cell_type": "code",
   "execution_count": 7,
   "id": "e7ea701c",
   "metadata": {},
   "outputs": [],
   "source": [
    "# Numerical Columns Description\n",
    "# Churn : Target variable (0 = customer stayed, 1 = customer churned/left)\n",
    "# Tenure : How long the customer has stayed with the company\n",
    "# CityTier : Classification of the city where the customer lives\n",
    "# WarehouseToHome : Distance between the warehouse and the customer's home\n",
    "# HoursSpendOnApp : Average hours the customer spends on the app per day/week\n",
    "# NumberOfDeviceRegistered : Number of devices registered to a cutomer's account\n",
    "# SatisfactionScore: A customer's satisfaction rating \n",
    "# NumberOfAddress : How many addresses the customer has saved\n",
    "# Complain : Whether the customer has filed a complaint or not\n",
    "# OrderAmountHikeFromlastYear : Percentage increase in order compared to last year\n",
    "# CouponUsed : Number of coupons used by the customer\n",
    "# OrderCount : Number of orders placed by the customer\n",
    "# DaysSinceLastOrder : Number of days since the customer's last order\n",
    "# CashbackAmount : Total cashback the customer has received"
   ]
  },
  {
   "cell_type": "code",
   "execution_count": 8,
   "id": "b4cd27b7",
   "metadata": {},
   "outputs": [],
   "source": [
    "# Categorical columns description\n",
    "# PreferredLoginDevice - The device most often used to log into the app/site\n",
    "# PreferredPaymentMode - Payment method most often used\n",
    "# Gender - Sex of the customer (male/female)\n",
    "# PreferredOrderCat - Most frequent product category ordered\n",
    "# MaritalStatus - Marital status of the customer"
   ]
  },
  {
   "cell_type": "code",
   "execution_count": 9,
   "id": "cbb9293d",
   "metadata": {},
   "outputs": [],
   "source": [
    "#missing data\n",
    "def missing_data(df: pd.DataFrame):\n",
    "    '''Returns the sum of missing data alongside the percentage of \n",
    "    missing values with proportion to the length of the dataframe\n",
    "    '''\n",
    "    missing = df.isnull().sum()\n",
    "    missing = missing[missing>0].sort_values(ascending=False)\n",
    "    missing_pct = missing / len(df) * 100\n",
    "    logging.info(f'\\nMissing Data \\n')\n",
    "    missing_df = pd.DataFrame({\n",
    "        'missing value' : missing,\n",
    "        'missing pct' : missing_pct.round(2)\n",
    "    })\n",
    "    display(missing_df)\n",
    "    return missing_df"
   ]
  },
  {
   "cell_type": "code",
   "execution_count": 10,
   "id": "9e7587a3",
   "metadata": {},
   "outputs": [],
   "source": [
    "#------duplicated rows--------\n",
    "def duplicate(df: pd.DataFrame):\n",
    "    '''Returns the duplicates found in the dataset'''\n",
    "    duplicates  =  df[df.duplicated()]\n",
    "    logging.info(f'\\nNumber of duplicates : {len(duplicates)}\\n')\n",
    "    if len(duplicates) == 0:\n",
    "        logging.info(f'No duplicates found\\n')\n",
    "    else:\n",
    "        return duplicates"
   ]
  },
  {
   "cell_type": "code",
   "execution_count": 11,
   "id": "a60bea21",
   "metadata": {},
   "outputs": [],
   "source": [
    "# ---------outlier detection using IQR--------\n",
    "def check_outlier(df: pd.DataFrame, col: str):\n",
    "    '''\n",
    "        Detects outliers in numeric columns using IQR\n",
    "    '''\n",
    "    Q1 = df[col].quantile(0.25)\n",
    "    Q3 = df[col].quantile(0.75)\n",
    "\n",
    "    IQR = Q3 - Q1\n",
    "    lower_bound = Q1 - 1.5 * IQR\n",
    "    upper_bound = Q3 + 1.5 * IQR\n",
    "\n",
    "    outliers = df[(df[col] < lower_bound) | (df[col] > upper_bound)]\n",
    "    return outliers, lower_bound, upper_bound"
   ]
  },
  {
   "cell_type": "code",
   "execution_count": 12,
   "id": "2b339606",
   "metadata": {},
   "outputs": [],
   "source": [
    "def outlier_summary(df: pd.DataFrame, numeric_cols: list[str]):\n",
    "    result = []\n",
    "    logging.info('Outlier Summary\\n')\n",
    "    for i,col in enumerate(numeric_cols,1):\n",
    "        outlier, lower, upper = check_outlier(df, col)\n",
    "        result .append({\n",
    "            'index': i,\n",
    "            'columns' : col,\n",
    "            'outlier' : len(outlier),\n",
    "            'Lower Range' : lower,\n",
    "            'Upper Range' : upper\n",
    "        })\n",
    "    summary_df = pd.DataFrame(result)\n",
    "    display(summary_df)\n",
    "    return summary_df"
   ]
  },
  {
   "cell_type": "code",
   "execution_count": 13,
   "id": "f124fa2c",
   "metadata": {},
   "outputs": [],
   "source": [
    "def one_hot_encode(df: pd.DataFrame, categorical_columns):\n",
    "    '''One hot encode all categorical columns'''\n",
    "    return pd.get_dummies(data=df, columns=categorical_columns,dtype=float)"
   ]
  },
  {
   "cell_type": "code",
   "execution_count": 14,
   "id": "6aa3081a",
   "metadata": {},
   "outputs": [],
   "source": [
    "import os\n",
    "def save_summary(df: pd.DataFrame, name: str):\n",
    "    os.makedirs('eda_reports',exist_ok=True)\n",
    "    path = f'eda_reports/{name}.csv'\n",
    "    df.to_csv(path, index=False)\n",
    "    logging.info(f'Saved report: {path}')"
   ]
  },
  {
   "cell_type": "code",
   "execution_count": 15,
   "id": "1b37d67c",
   "metadata": {},
   "outputs": [],
   "source": [
    "def run_eda(filepath):\n",
    "    df = load_data(filepath)\n",
    "    overview = dataset_overview(df)\n",
    "    num_cols = numeric_columns(df)\n",
    "    cat_cols = categorical_columns(df)\n",
    "\n",
    "    if 'CouponUsed' in df.columns:\n",
    "        df['CouponUsed'].fillna(0,inplace=True)\n",
    "\n",
    "    if 'HourSpendOnApp' in df.columns:\n",
    "        df['HourSpendOnApp'].fillna(df['HourSpendOnApp'].mean(), inplace=True)\n",
    "    \n",
    "    if 'WarehouseToHome' in df.columns:\n",
    "        df = df.query('WarehouseToHome <= 36')\n",
    "\n",
    "    if 'Tenure' in df.columns:\n",
    "        df['Tenure'].fillna(df['Tenure'].median(), inplace=True)\n",
    "\n",
    "    if 'DaySinceLastOrder' in df.columns:\n",
    "        df['DaySinceLastOrder'].fillna(df['DaySinceLastOrder'].median(), inplace=True)\n",
    "    \n",
    "    if 'OrderAmountHikeFromlastYear' in df.columns:\n",
    "        df['OrderAmountHikeFromlastYear'].fillna(df['OrderAmountHikeFromlastYear'].mean(), inplace=True)\n",
    "\n",
    "    if 'OrderCount' in df.columns:\n",
    "        df['OrderCount'].fillna(df['OrderCount'].mean(), inplace=True)\n",
    "\n",
    "    missing = missing_data(df)\n",
    "    duplicates = duplicate(df)\n",
    "    outliers = outlier_summary(df, num_cols)\n",
    "    df = one_hot_encode(df, cat_cols)\n",
    "    logging.info(f'EDA completed successfully!')\n",
    "\n",
    "    save_summary(overview,'overview')\n",
    "    save_summary(missing, 'missing_data')\n",
    "    save_summary(outliers, 'outlier_summary')\n",
    "    if duplicates is not None:\n",
    "        save_summary(duplicates,'duplicates')\n",
    "    \n",
    "    return {\n",
    "        'data' : df,\n",
    "        'overview' : overview,\n",
    "        'num_cols' :num_cols,\n",
    "        'cat_cols' : cat_cols,\n",
    "        'missing' : missing,\n",
    "        'duplicates' : duplicates,\n",
    "        'outliers' : outliers,\n",
    "    }"
   ]
  },
  {
   "cell_type": "code",
   "execution_count": 16,
   "id": "cb89670d",
   "metadata": {},
   "outputs": [
    {
     "name": "stderr",
     "output_type": "stream",
     "text": [
      "14:06:14 - INFO - Data successfully loaded with 5630 rows and 20 columns\n",
      "\n",
      "14:06:14 - INFO - Number of observations : 5630\n",
      "14:06:14 - INFO - Number of features : 20\n"
     ]
    },
    {
     "name": "stderr",
     "output_type": "stream",
     "text": [
      "14:06:14 - INFO - \n",
      "Number of Numeric columns : 14 | Examples : ['Churn', 'Tenure', 'CityTier']\n",
      "\n",
      "14:06:14 - INFO - \n",
      "1. CustomerID - Min: 50001 - Max: 55630\n",
      "\n",
      "14:06:14 - INFO - \n",
      "2. Churn - Min: 0 - Max: 1\n",
      "\n",
      "14:06:14 - INFO - \n",
      "3. Tenure - Min: 0.0 - Max: 61.0\n",
      "\n",
      "14:06:14 - INFO - \n",
      "4. CityTier - Min: 1 - Max: 3\n",
      "\n",
      "14:06:14 - INFO - \n",
      "5. WarehouseToHome - Min: 5.0 - Max: 127.0\n",
      "\n",
      "14:06:14 - INFO - \n",
      "6. HourSpendOnApp - Min: 0.0 - Max: 5.0\n",
      "\n",
      "14:06:14 - INFO - \n",
      "7. NumberOfDeviceRegistered - Min: 1 - Max: 6\n",
      "\n",
      "14:06:14 - INFO - \n",
      "8. SatisfactionScore - Min: 1 - Max: 5\n",
      "\n",
      "14:06:14 - INFO - \n",
      "9. NumberOfAddress - Min: 1 - Max: 22\n",
      "\n",
      "14:06:14 - INFO - \n",
      "10. Complain - Min: 0 - Max: 1\n",
      "\n",
      "14:06:14 - INFO - \n",
      "11. OrderAmountHikeFromlastYear - Min: 11.0 - Max: 26.0\n",
      "\n",
      "14:06:14 - INFO - \n",
      "12. CouponUsed - Min: 0.0 - Max: 16.0\n",
      "\n",
      "14:06:14 - INFO - \n",
      "13. OrderCount - Min: 1.0 - Max: 16.0\n",
      "\n",
      "14:06:14 - INFO - \n",
      "14. DaySinceLastOrder - Min: 0.0 - Max: 46.0\n",
      "\n",
      "14:06:14 - INFO - \n",
      "15. CashbackAmount - Min: 0 - Max: 325\n",
      "\n",
      "14:06:14 - INFO - \n",
      "Number of Categorical columns : 5 | Examples : ['PreferredLoginDevice', 'PreferredPaymentMode', 'Gender']\n",
      "\n",
      "14:06:14 - INFO - \n",
      "1. PreferredLoginDevice - Unique: 3 | Examples : ['Mobile Phone' 'Phone' 'Computer']\n",
      "\n",
      "14:06:14 - INFO - \n",
      "2. PreferredPaymentMode - Unique: 7 | Examples : ['Debit Card' 'UPI' 'CC']\n",
      "\n",
      "14:06:14 - INFO - \n",
      "3. Gender - Unique: 2 | Examples : ['Female' 'Male']\n",
      "\n",
      "14:06:14 - INFO - \n",
      "4. PreferedOrderCat - Unique: 6 | Examples : ['Laptop & Accessory' 'Mobile' 'Mobile Phone']\n",
      "\n",
      "14:06:14 - INFO - \n",
      "5. MaritalStatus - Unique: 3 | Examples : ['Single' 'Divorced' 'Married']\n",
      "\n",
      "14:06:14 - INFO - \n",
      "Missing Data \n",
      "\n"
     ]
    },
    {
     "data": {
      "application/vnd.microsoft.datawrangler.viewer.v0+json": {
       "columns": [
        {
         "name": "index",
         "rawType": "object",
         "type": "string"
        },
        {
         "name": "missing value",
         "rawType": "int64",
         "type": "integer"
        },
        {
         "name": "missing pct",
         "rawType": "float64",
         "type": "float"
        }
       ],
       "ref": "746592f1-bfcb-4eb8-ac5d-6e00f6556265",
       "rows": [],
       "shape": {
        "columns": 2,
        "rows": 0
       }
      },
      "text/html": [
       "<div>\n",
       "<style scoped>\n",
       "    .dataframe tbody tr th:only-of-type {\n",
       "        vertical-align: middle;\n",
       "    }\n",
       "\n",
       "    .dataframe tbody tr th {\n",
       "        vertical-align: top;\n",
       "    }\n",
       "\n",
       "    .dataframe thead th {\n",
       "        text-align: right;\n",
       "    }\n",
       "</style>\n",
       "<table border=\"1\" class=\"dataframe\">\n",
       "  <thead>\n",
       "    <tr style=\"text-align: right;\">\n",
       "      <th></th>\n",
       "      <th>missing value</th>\n",
       "      <th>missing pct</th>\n",
       "    </tr>\n",
       "  </thead>\n",
       "  <tbody>\n",
       "  </tbody>\n",
       "</table>\n",
       "</div>"
      ],
      "text/plain": [
       "Empty DataFrame\n",
       "Columns: [missing value, missing pct]\n",
       "Index: []"
      ]
     },
     "metadata": {},
     "output_type": "display_data"
    },
    {
     "name": "stderr",
     "output_type": "stream",
     "text": [
      "14:06:14 - INFO - \n",
      "Number of duplicates : 0\n",
      "\n",
      "14:06:14 - INFO - No duplicates found\n",
      "\n",
      "14:06:14 - INFO - Outlier Summary\n",
      "\n"
     ]
    },
    {
     "data": {
      "application/vnd.microsoft.datawrangler.viewer.v0+json": {
       "columns": [
        {
         "name": "index",
         "rawType": "int64",
         "type": "integer"
        },
        {
         "name": "index",
         "rawType": "int64",
         "type": "integer"
        },
        {
         "name": "columns",
         "rawType": "object",
         "type": "string"
        },
        {
         "name": "outlier",
         "rawType": "int64",
         "type": "integer"
        },
        {
         "name": "Lower Range",
         "rawType": "float64",
         "type": "float"
        },
        {
         "name": "Upper Range",
         "rawType": "float64",
         "type": "float"
        }
       ],
       "ref": "0bc1e937-fc1e-4d81-ba52-027afaf92ffa",
       "rows": [
        [
         "0",
         "1",
         "CustomerID",
         "0",
         "47261.0",
         "58501.0"
        ],
        [
         "1",
         "2",
         "Churn",
         "864",
         "0.0",
         "0.0"
        ],
        [
         "2",
         "3",
         "Tenure",
         "4",
         "-16.5",
         "35.5"
        ],
        [
         "3",
         "4",
         "CityTier",
         "0",
         "-2.0",
         "6.0"
        ],
        [
         "4",
         "5",
         "WarehouseToHome",
         "0",
         "-7.5",
         "36.5"
        ],
        [
         "5",
         "6",
         "HourSpendOnApp",
         "6",
         "0.5",
         "4.5"
        ],
        [
         "6",
         "7",
         "NumberOfDeviceRegistered",
         "374",
         "1.5",
         "5.5"
        ],
        [
         "7",
         "8",
         "SatisfactionScore",
         "0",
         "-1.0",
         "7.0"
        ],
        [
         "8",
         "9",
         "NumberOfAddress",
         "4",
         "-4.0",
         "12.0"
        ],
        [
         "9",
         "10",
         "Complain",
         "0",
         "-1.5",
         "2.5"
        ],
        [
         "10",
         "11",
         "OrderAmountHikeFromlastYear",
         "33",
         "5.5",
         "25.5"
        ],
        [
         "11",
         "12",
         "CouponUsed",
         "617",
         "-0.5",
         "3.5"
        ],
        [
         "12",
         "13",
         "OrderCount",
         "688",
         "-2.105489353389334",
         "6.175815588982223"
        ],
        [
         "13",
         "14",
         "DaySinceLastOrder",
         "60",
         "-5.5",
         "14.5"
        ],
        [
         "14",
         "15",
         "CashbackAmount",
         "422",
         "71.5",
         "275.5"
        ]
       ],
       "shape": {
        "columns": 5,
        "rows": 15
       }
      },
      "text/html": [
       "<div>\n",
       "<style scoped>\n",
       "    .dataframe tbody tr th:only-of-type {\n",
       "        vertical-align: middle;\n",
       "    }\n",
       "\n",
       "    .dataframe tbody tr th {\n",
       "        vertical-align: top;\n",
       "    }\n",
       "\n",
       "    .dataframe thead th {\n",
       "        text-align: right;\n",
       "    }\n",
       "</style>\n",
       "<table border=\"1\" class=\"dataframe\">\n",
       "  <thead>\n",
       "    <tr style=\"text-align: right;\">\n",
       "      <th></th>\n",
       "      <th>index</th>\n",
       "      <th>columns</th>\n",
       "      <th>outlier</th>\n",
       "      <th>Lower Range</th>\n",
       "      <th>Upper Range</th>\n",
       "    </tr>\n",
       "  </thead>\n",
       "  <tbody>\n",
       "    <tr>\n",
       "      <th>0</th>\n",
       "      <td>1</td>\n",
       "      <td>CustomerID</td>\n",
       "      <td>0</td>\n",
       "      <td>47261.000000</td>\n",
       "      <td>58501.000000</td>\n",
       "    </tr>\n",
       "    <tr>\n",
       "      <th>1</th>\n",
       "      <td>2</td>\n",
       "      <td>Churn</td>\n",
       "      <td>864</td>\n",
       "      <td>0.000000</td>\n",
       "      <td>0.000000</td>\n",
       "    </tr>\n",
       "    <tr>\n",
       "      <th>2</th>\n",
       "      <td>3</td>\n",
       "      <td>Tenure</td>\n",
       "      <td>4</td>\n",
       "      <td>-16.500000</td>\n",
       "      <td>35.500000</td>\n",
       "    </tr>\n",
       "    <tr>\n",
       "      <th>3</th>\n",
       "      <td>4</td>\n",
       "      <td>CityTier</td>\n",
       "      <td>0</td>\n",
       "      <td>-2.000000</td>\n",
       "      <td>6.000000</td>\n",
       "    </tr>\n",
       "    <tr>\n",
       "      <th>4</th>\n",
       "      <td>5</td>\n",
       "      <td>WarehouseToHome</td>\n",
       "      <td>0</td>\n",
       "      <td>-7.500000</td>\n",
       "      <td>36.500000</td>\n",
       "    </tr>\n",
       "    <tr>\n",
       "      <th>5</th>\n",
       "      <td>6</td>\n",
       "      <td>HourSpendOnApp</td>\n",
       "      <td>6</td>\n",
       "      <td>0.500000</td>\n",
       "      <td>4.500000</td>\n",
       "    </tr>\n",
       "    <tr>\n",
       "      <th>6</th>\n",
       "      <td>7</td>\n",
       "      <td>NumberOfDeviceRegistered</td>\n",
       "      <td>374</td>\n",
       "      <td>1.500000</td>\n",
       "      <td>5.500000</td>\n",
       "    </tr>\n",
       "    <tr>\n",
       "      <th>7</th>\n",
       "      <td>8</td>\n",
       "      <td>SatisfactionScore</td>\n",
       "      <td>0</td>\n",
       "      <td>-1.000000</td>\n",
       "      <td>7.000000</td>\n",
       "    </tr>\n",
       "    <tr>\n",
       "      <th>8</th>\n",
       "      <td>9</td>\n",
       "      <td>NumberOfAddress</td>\n",
       "      <td>4</td>\n",
       "      <td>-4.000000</td>\n",
       "      <td>12.000000</td>\n",
       "    </tr>\n",
       "    <tr>\n",
       "      <th>9</th>\n",
       "      <td>10</td>\n",
       "      <td>Complain</td>\n",
       "      <td>0</td>\n",
       "      <td>-1.500000</td>\n",
       "      <td>2.500000</td>\n",
       "    </tr>\n",
       "    <tr>\n",
       "      <th>10</th>\n",
       "      <td>11</td>\n",
       "      <td>OrderAmountHikeFromlastYear</td>\n",
       "      <td>33</td>\n",
       "      <td>5.500000</td>\n",
       "      <td>25.500000</td>\n",
       "    </tr>\n",
       "    <tr>\n",
       "      <th>11</th>\n",
       "      <td>12</td>\n",
       "      <td>CouponUsed</td>\n",
       "      <td>617</td>\n",
       "      <td>-0.500000</td>\n",
       "      <td>3.500000</td>\n",
       "    </tr>\n",
       "    <tr>\n",
       "      <th>12</th>\n",
       "      <td>13</td>\n",
       "      <td>OrderCount</td>\n",
       "      <td>688</td>\n",
       "      <td>-2.105489</td>\n",
       "      <td>6.175816</td>\n",
       "    </tr>\n",
       "    <tr>\n",
       "      <th>13</th>\n",
       "      <td>14</td>\n",
       "      <td>DaySinceLastOrder</td>\n",
       "      <td>60</td>\n",
       "      <td>-5.500000</td>\n",
       "      <td>14.500000</td>\n",
       "    </tr>\n",
       "    <tr>\n",
       "      <th>14</th>\n",
       "      <td>15</td>\n",
       "      <td>CashbackAmount</td>\n",
       "      <td>422</td>\n",
       "      <td>71.500000</td>\n",
       "      <td>275.500000</td>\n",
       "    </tr>\n",
       "  </tbody>\n",
       "</table>\n",
       "</div>"
      ],
      "text/plain": [
       "    index                      columns  outlier   Lower Range   Upper Range\n",
       "0       1                   CustomerID        0  47261.000000  58501.000000\n",
       "1       2                        Churn      864      0.000000      0.000000\n",
       "2       3                       Tenure        4    -16.500000     35.500000\n",
       "3       4                     CityTier        0     -2.000000      6.000000\n",
       "4       5              WarehouseToHome        0     -7.500000     36.500000\n",
       "5       6               HourSpendOnApp        6      0.500000      4.500000\n",
       "6       7     NumberOfDeviceRegistered      374      1.500000      5.500000\n",
       "7       8            SatisfactionScore        0     -1.000000      7.000000\n",
       "8       9              NumberOfAddress        4     -4.000000     12.000000\n",
       "9      10                     Complain        0     -1.500000      2.500000\n",
       "10     11  OrderAmountHikeFromlastYear       33      5.500000     25.500000\n",
       "11     12                   CouponUsed      617     -0.500000      3.500000\n",
       "12     13                   OrderCount      688     -2.105489      6.175816\n",
       "13     14            DaySinceLastOrder       60     -5.500000     14.500000\n",
       "14     15               CashbackAmount      422     71.500000    275.500000"
      ]
     },
     "metadata": {},
     "output_type": "display_data"
    },
    {
     "name": "stderr",
     "output_type": "stream",
     "text": [
      "14:06:14 - INFO - EDA completed successfully!\n",
      "14:06:14 - INFO - Saved report: eda_reports/overview.csv\n",
      "14:06:14 - INFO - Saved report: eda_reports/missing_data.csv\n",
      "14:06:14 - INFO - Saved report: eda_reports/outlier_summary.csv\n"
     ]
    }
   ],
   "source": [
    "if __name__ == '__main__':\n",
    "    results = run_eda('../data/e-commerce.csv')\n",
    "    df = results['data']"
   ]
  }
 ],
 "metadata": {
  "kernelspec": {
   "display_name": "customer-churn-prediction-tIX6m4nY-py3.11",
   "language": "python",
   "name": "python3"
  },
  "language_info": {
   "codemirror_mode": {
    "name": "ipython",
    "version": 3
   },
   "file_extension": ".py",
   "mimetype": "text/x-python",
   "name": "python",
   "nbconvert_exporter": "python",
   "pygments_lexer": "ipython3",
   "version": "3.11.9"
  }
 },
 "nbformat": 4,
 "nbformat_minor": 5
}
